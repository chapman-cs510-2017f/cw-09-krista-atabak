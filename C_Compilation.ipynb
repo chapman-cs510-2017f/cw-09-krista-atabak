{
 "cells": [
  {
   "cell_type": "markdown",
   "metadata": {
    "collapsed": false
   },
   "source": [
    "#### CW-09\n",
    "Atabak, Ehsan, Krista"
   ]
  },
  {
   "cell_type": "markdown",
   "metadata": {
    "collapsed": false
   },
   "source": [
    "- Makefiles provides directions for compiling and linking a program. Makefiles provide efficiency when a program links with multiple header files and header files have been edited. The program does not run the entire program all over, instead recompiles portions of program that are affected by the edited header files.\n",
    "\n",
    "Describe how the code is organized here. Why is this a reasonable structure?\n",
    "\n",
    "- Header file is that declares a library with predefined methods.\n",
    "- Source file is the code written by the user.\n",
    "- Object files are the output files from compilation.\n",
    "- Compiling is when source code is converted to machine code.\n",
    "- Linking occurs during compilation. It is when the various libraries are combined to be executed."
   ]
  },
  {
   "cell_type": "code",
   "execution_count": 0,
   "metadata": {
    "collapsed": false
   },
   "outputs": [
   ],
   "source": [
   ]
  },
  {
   "cell_type": "code",
   "execution_count": 0,
   "metadata": {
    "collapsed": false
   },
   "outputs": [
   ],
   "source": [
   ]
  }
 ],
 "metadata": {
  "kernelspec": {
   "display_name": "Python 3 (Ubuntu Linux)",
   "language": "python",
   "name": "python3"
  },
  "language_info": {
   "codemirror_mode": {
    "name": "ipython",
    "version": 3
   },
   "file_extension": ".py",
   "mimetype": "text/x-python",
   "name": "python",
   "nbconvert_exporter": "python",
   "pygments_lexer": "ipython3",
   "version": "3.5.2"
  }
 },
 "nbformat": 4,
 "nbformat_minor": 0
}